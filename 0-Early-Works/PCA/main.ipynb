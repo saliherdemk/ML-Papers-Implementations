{
 "cells": [
  {
   "cell_type": "code",
   "execution_count": 122,
   "id": "d36b1291-41df-47d1-858d-6a1756ae5992",
   "metadata": {},
   "outputs": [],
   "source": [
    "import numpy as np\n",
    "\n",
    "class PCA:\n",
    "    def __init__(self, data):\n",
    "        self.data = data\n",
    "\n",
    "    def centered_data(self):\n",
    "        return self.data - np.mean(self.data, axis=0)\n",
    "\n",
    "    def cov_matrix(self, data):\n",
    "        return np.cov(data, rowvar=False, ddof=1)\n",
    "\n",
    "    def eigens(self):\n",
    "        cov_matrix = self.cov_matrix(self.centered_data())\n",
    "        eigenvalues, eigenvectors = np.linalg.eig(cov_matrix)\n",
    "        return eigenvalues, eigenvectors\n",
    "\n",
    "    def order_and_merge(self):\n",
    "        eigenvalues, eigenvectors = self.eigens()\n",
    "        sorted_indices = np.argsort(eigenvalues)[::-1]\n",
    "        sorted_eigenvectors = eigenvectors[:, sorted_indices]\n",
    "        # Signs of second row are different from the notes.\n",
    "        # It's about normalization and not important for pca apperantly. \n",
    "        return sorted_eigenvectors\n",
    "        \n",
    "    def get_principle_components(self, n_comp = -1):\n",
    "        v = self.order_and_merge()\n",
    "        d = self.centered_data()\n",
    "        return d @ v\n",
    "        "
   ]
  },
  {
   "cell_type": "code",
   "execution_count": 123,
   "id": "24a9bb28-6fad-46a0-8381-5988347061c4",
   "metadata": {},
   "outputs": [],
   "source": [
    "data = np.array([\n",
    "    [126, 78],\n",
    "    [128, 80],\n",
    "    [128, 82],\n",
    "    [130, 82],\n",
    "    [130, 84],\n",
    "    [132, 86]\n",
    "])"
   ]
  },
  {
   "cell_type": "code",
   "execution_count": 127,
   "id": "e38c3f44-78e4-49c7-8234-eef9a344a874",
   "metadata": {},
   "outputs": [
    {
     "data": {
      "text/plain": [
       "array([[ 4.99953747,  0.06800833],\n",
       "       [ 2.20523715, -0.37003933],\n",
       "       [ 0.58906316,  0.80808699],\n",
       "       [-0.58906316, -0.80808699],\n",
       "       [-2.20523715,  0.37003933],\n",
       "       [-4.99953747, -0.06800833]])"
      ]
     },
     "execution_count": 127,
     "metadata": {},
     "output_type": "execute_result"
    }
   ],
   "source": [
    "pca = PCA(data)\n",
    "pcas = pca.get_principle_components()\n",
    "pcas"
   ]
  },
  {
   "cell_type": "code",
   "execution_count": 142,
   "id": "618d0ea1-aded-4dab-b379-c4b5f857fb20",
   "metadata": {},
   "outputs": [
    {
     "data": {
      "text/plain": [
       "array([[4.4, 5.6],\n",
       "       [5.6, 8. ]])"
      ]
     },
     "execution_count": 142,
     "metadata": {},
     "output_type": "execute_result"
    }
   ],
   "source": [
    "pca.cov_matrix(data)"
   ]
  },
  {
   "cell_type": "code",
   "execution_count": 143,
   "id": "8c0de150-79a2-4dcb-b19b-076616a7c777",
   "metadata": {},
   "outputs": [
    {
     "data": {
      "text/plain": [
       "array([[ 1.20821765e+01, -1.61413893e-16],\n",
       "       [-1.61413893e-16,  3.17823532e-01]])"
      ]
     },
     "execution_count": 143,
     "metadata": {},
     "output_type": "execute_result"
    }
   ],
   "source": [
    "pca.cov_matrix(pcas)"
   ]
  },
  {
   "cell_type": "code",
   "execution_count": null,
   "id": "f01573b8-dcc2-4dae-b50f-aeb05eec016f",
   "metadata": {},
   "outputs": [],
   "source": []
  }
 ],
 "metadata": {
  "kernelspec": {
   "display_name": "Python 3 (ipykernel)",
   "language": "python",
   "name": "python3"
  },
  "language_info": {
   "codemirror_mode": {
    "name": "ipython",
    "version": 3
   },
   "file_extension": ".py",
   "mimetype": "text/x-python",
   "name": "python",
   "nbconvert_exporter": "python",
   "pygments_lexer": "ipython3",
   "version": "3.13.2"
  }
 },
 "nbformat": 4,
 "nbformat_minor": 5
}
