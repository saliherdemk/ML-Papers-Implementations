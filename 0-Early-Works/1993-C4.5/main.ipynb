{
 "cells": [
  {
   "cell_type": "code",
   "execution_count": 2,
   "id": "f30c2723-03b5-4abe-9b73-aa2273087d4d",
   "metadata": {},
   "outputs": [
    {
     "name": "stdout",
     "output_type": "stream",
     "text": [
      "     Outlook Temperature Humidity    Wind PlayTennis\n",
      "0      Sunny         Hot     High    Weak         No\n",
      "1      Sunny         Hot     High  Strong         No\n",
      "2   Overcast         Hot     High    Weak        Yes\n",
      "3       Rain        Mild     High    Weak        Yes\n",
      "4       Rain        Cool   Normal    Weak        Yes\n",
      "5       Rain        Cool   Normal  Strong         No\n",
      "6   Overcast        Cool   Normal  Strong        Yes\n",
      "7      Sunny        Mild     High    Weak         No\n",
      "8      Sunny        Cool   Normal    Weak        Yes\n",
      "9       Rain        Mild   Normal    Weak        Yes\n",
      "10     Sunny        Mild   Normal  Strong        Yes\n",
      "11  Overcast        Mild     High  Strong        Yes\n",
      "12  Overcast         Hot   Normal    Weak        Yes\n",
      "13      Rain        Mild     High  Strong         No\n"
     ]
    }
   ],
   "source": [
    "import pandas as pd\n",
    "import numpy as np\n",
    "\n",
    "data = {\n",
    "    \"Outlook\": [\"Sunny\", \"Sunny\", \"Overcast\", \"Rain\", \"Rain\", \"Rain\", \"Overcast\", \"Sunny\", \"Sunny\", \"Rain\", \"Sunny\", \"Overcast\", \"Overcast\", \"Rain\"],\n",
    "    \"Temperature\": [\"Hot\", \"Hot\", \"Hot\", \"Mild\", \"Cool\", \"Cool\", \"Cool\", \"Mild\", \"Cool\", \"Mild\", \"Mild\", \"Mild\", \"Hot\", \"Mild\"],\n",
    "    \"Humidity\": [\"High\", \"High\", \"High\", \"High\", \"Normal\", \"Normal\", \"Normal\", \"High\", \"Normal\", \"Normal\", \"Normal\", \"High\", \"Normal\", \"High\"],\n",
    "    \"Wind\": [\"Weak\", \"Strong\", \"Weak\", \"Weak\", \"Weak\", \"Strong\", \"Strong\", \"Weak\", \"Weak\", \"Weak\", \"Strong\", \"Strong\", \"Weak\", \"Strong\"],\n",
    "    \"PlayTennis\": [\"No\", \"No\", \"Yes\", \"Yes\", \"Yes\", \"No\", \"Yes\", \"No\", \"Yes\", \"Yes\", \"Yes\", \"Yes\", \"Yes\", \"No\"]\n",
    "}\n",
    "\n",
    "df = pd.DataFrame(data)\n",
    "\n",
    "print(df)"
   ]
  },
  {
   "cell_type": "code",
   "execution_count": 16,
   "id": "c55cd816-8f0c-4001-9c62-8735106e78e3",
   "metadata": {},
   "outputs": [],
   "source": [
    "class Node:\n",
    "    def __init__(self, label):\n",
    "        self.children = []\n",
    "        self.label = label\n",
    "        \n",
    "    def add_child(self, node):\n",
    "        self.children.append(node)"
   ]
  },
  {
   "cell_type": "code",
   "execution_count": 24,
   "id": "4baa958b-780b-4358-a71e-e264ff19e426",
   "metadata": {},
   "outputs": [
    {
     "name": "stdout",
     "output_type": "stream",
     "text": [
      "   Outlook Temperature Humidity    Wind PlayTennis\n",
      "0    Sunny         Hot     High    Weak         No\n",
      "1    Sunny         Hot     High  Strong         No\n",
      "7    Sunny        Mild     High    Weak         No\n",
      "8    Sunny        Cool   Normal    Weak        Yes\n",
      "10   Sunny        Mild   Normal  Strong        Yes\n",
      "----------------------\n",
      "     Outlook Temperature Humidity    Wind PlayTennis\n",
      "2   Overcast         Hot     High    Weak        Yes\n",
      "6   Overcast        Cool   Normal  Strong        Yes\n",
      "11  Overcast        Mild     High  Strong        Yes\n",
      "12  Overcast         Hot   Normal    Weak        Yes\n",
      "----------------------\n",
      "   Outlook Temperature Humidity    Wind PlayTennis\n",
      "3     Rain        Mild     High    Weak        Yes\n",
      "4     Rain        Cool   Normal    Weak        Yes\n",
      "5     Rain        Cool   Normal  Strong         No\n",
      "9     Rain        Mild   Normal    Weak        Yes\n",
      "13    Rain        Mild     High  Strong         No\n",
      "----------------------\n"
     ]
    }
   ],
   "source": [
    "class C4_5:\n",
    "    def __init__(self, data, label):\n",
    "        self.data = data\n",
    "        self.label = label\n",
    "        self.tree = None\n",
    "        \n",
    "    def create_tree(self):\n",
    "        root = self.determinate_root(self.data)\n",
    "        for val in df[root].unique():\n",
    "            print(df[df[root] == val])\n",
    "            print(\"----------------------\")\n",
    "        \n",
    "\n",
    "    def determinate_root(self,data):\n",
    "        h_s = self.calculate_dataset_entropy(data)\n",
    "        gains = {}\n",
    "\n",
    "        for col in data.columns[:-1]:\n",
    "            entropy = self.calculate_weigted_entropy(col)\n",
    "            gain = h_s - entropy\n",
    "            gains[col] = gain\n",
    "        max_key = max(gains, key=gains.get)\n",
    "        return max_key\n",
    "\n",
    "    \n",
    "    def calculate_dataset_entropy(self,data):\n",
    "        labels = data[self.label]\n",
    "        num_of_records = len(labels)\n",
    "        entropy = 0\n",
    "        for v in labels.value_counts().to_dict().values():\n",
    "            p = v / num_of_records\n",
    "            entropy -= p * np.log2(p)\n",
    "        return entropy\n",
    "\n",
    "    def calculate_weigted_entropy(self, column):\n",
    "        data = df[[column, self.label]]\n",
    "        entropy = 0\n",
    "        for attr in data.iloc[:, 0].unique():\n",
    "            num_of_attr = (data[column] == attr).sum()\n",
    "            p_attr = num_of_attr / len(data)\n",
    "            attr_data = data[data[column] == attr]\n",
    "            \n",
    "            h_attr =self.calculate_entropy(attr_data[self.label])\n",
    "            entropy += p_attr * h_attr\n",
    "        return entropy\n",
    "\n",
    "    def calculate_entropy(self,data):\n",
    "        num_of_records = len(data)\n",
    "        entropy = 0\n",
    "        for v in data.value_counts().to_dict().values():\n",
    "            p = v / num_of_records\n",
    "            entropy -= p * np.log2(p)\n",
    "        return entropy\n",
    "        \n",
    "            \n",
    "        \n",
    "model = C4_5(df,\"PlayTennis\")\n",
    "model.create_tree()\n"
   ]
  },
  {
   "cell_type": "code",
   "execution_count": null,
   "id": "74b8537f-5412-47e4-ac28-f351e160976e",
   "metadata": {},
   "outputs": [],
   "source": []
  },
  {
   "cell_type": "code",
   "execution_count": null,
   "id": "f16a7ad6-3693-4052-960d-b46a35d9b4c4",
   "metadata": {},
   "outputs": [],
   "source": []
  }
 ],
 "metadata": {
  "kernelspec": {
   "display_name": "Python 3 (ipykernel)",
   "language": "python",
   "name": "python3"
  },
  "language_info": {
   "codemirror_mode": {
    "name": "ipython",
    "version": 3
   },
   "file_extension": ".py",
   "mimetype": "text/x-python",
   "name": "python",
   "nbconvert_exporter": "python",
   "pygments_lexer": "ipython3",
   "version": "3.12.7"
  }
 },
 "nbformat": 4,
 "nbformat_minor": 5
}
